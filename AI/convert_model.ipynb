{
  "nbformat": 4,
  "nbformat_minor": 0,
  "metadata": {
    "colab": {
      "provenance": []
    },
    "kernelspec": {
      "name": "python3",
      "display_name": "Python 3"
    },
    "language_info": {
      "name": "python"
    }
  },
  "cells": [
    {
      "cell_type": "markdown",
      "source": [
        "# Mount Google Drive\n",
        "since I am using google colab pro for developing the code, mounting to my google drive is needed"
      ],
      "metadata": {
        "id": "Looi3n5tP-zO"
      }
    },
    {
      "cell_type": "code",
      "execution_count": 1,
      "metadata": {
        "colab": {
          "base_uri": "https://localhost:8080/"
        },
        "id": "54-M3bz9ydDc",
        "outputId": "0ec05e55-acda-4887-97bc-3a671915e685"
      },
      "outputs": [
        {
          "output_type": "stream",
          "name": "stdout",
          "text": [
            "Mounted at /gdrive\n"
          ]
        }
      ],
      "source": [
        "from google.colab import drive\n",
        "drive.mount('/gdrive')"
      ]
    },
    {
      "cell_type": "markdown",
      "source": [
        "Set root folder"
      ],
      "metadata": {
        "id": "sNlZF1b0QFf0"
      }
    },
    {
      "cell_type": "code",
      "source": [
        "root = '/gdrive/My Drive/MSB481/'"
      ],
      "metadata": {
        "id": "N59heg_8ylsh"
      },
      "execution_count": 2,
      "outputs": []
    },
    {
      "cell_type": "markdown",
      "source": [
        "# Import Libraries"
      ],
      "metadata": {
        "id": "JJGm4x42QI5k"
      }
    },
    {
      "cell_type": "code",
      "source": [
        "import numpy as np \n",
        "import os\n",
        "import tensorflow as tf\n",
        "from tensorflow.keras.models import load_model"
      ],
      "metadata": {
        "id": "kkrp1BdYym2L"
      },
      "execution_count": 3,
      "outputs": []
    },
    {
      "cell_type": "markdown",
      "source": [
        "# Load the trained model"
      ],
      "metadata": {
        "id": "Zz7TIsU2QLJs"
      }
    },
    {
      "cell_type": "code",
      "source": [
        "loaded_model = load_model(os.path.join(root, 'model/best_150_new_dataset.h5'))\n",
        "loaded_model.summary()"
      ],
      "metadata": {
        "colab": {
          "base_uri": "https://localhost:8080/"
        },
        "id": "DWUT1ixty7Uh",
        "outputId": "fd9ebc53-b50d-48a5-fef8-8a7f0c9bb06c"
      },
      "execution_count": 5,
      "outputs": [
        {
          "output_type": "stream",
          "name": "stdout",
          "text": [
            "Model: \"sequential\"\n",
            "_________________________________________________________________\n",
            " Layer (type)                Output Shape              Param #   \n",
            "=================================================================\n",
            " conv2d (Conv2D)             (None, 96, 96, 16)        208       \n",
            "                                                                 \n",
            " activation (Activation)     (None, 96, 96, 16)        0         \n",
            "                                                                 \n",
            " max_pooling2d (MaxPooling2D  (None, 48, 48, 16)       0         \n",
            " )                                                               \n",
            "                                                                 \n",
            " conv2d_1 (Conv2D)           (None, 48, 48, 32)        2080      \n",
            "                                                                 \n",
            " activation_1 (Activation)   (None, 48, 48, 32)        0         \n",
            "                                                                 \n",
            " max_pooling2d_1 (MaxPooling  (None, 24, 24, 32)       0         \n",
            " 2D)                                                             \n",
            "                                                                 \n",
            " conv2d_2 (Conv2D)           (None, 24, 24, 64)        8256      \n",
            "                                                                 \n",
            " activation_2 (Activation)   (None, 24, 24, 64)        0         \n",
            "                                                                 \n",
            " max_pooling2d_2 (MaxPooling  (None, 12, 12, 64)       0         \n",
            " 2D)                                                             \n",
            "                                                                 \n",
            " conv2d_3 (Conv2D)           (None, 12, 12, 128)       32896     \n",
            "                                                                 \n",
            " activation_3 (Activation)   (None, 12, 12, 128)       0         \n",
            "                                                                 \n",
            " max_pooling2d_3 (MaxPooling  (None, 6, 6, 128)        0         \n",
            " 2D)                                                             \n",
            "                                                                 \n",
            " dropout (Dropout)           (None, 6, 6, 128)         0         \n",
            "                                                                 \n",
            " flatten (Flatten)           (None, 4608)              0         \n",
            "                                                                 \n",
            " dropout_1 (Dropout)         (None, 4608)              0         \n",
            "                                                                 \n",
            " dense (Dense)               (None, 1)                 4609      \n",
            "                                                                 \n",
            "=================================================================\n",
            "Total params: 48,049\n",
            "Trainable params: 48,049\n",
            "Non-trainable params: 0\n",
            "_________________________________________________________________\n"
          ]
        }
      ]
    },
    {
      "cell_type": "markdown",
      "source": [
        "# Converting process\n",
        "I use the code from the class tutorial. However, remember that to change the channel from greyscale (1 channel) to RGB (3 channels)"
      ],
      "metadata": {
        "id": "1X39wvssQPZV"
      }
    },
    {
      "cell_type": "code",
      "source": [
        "WIDTH = 96\n",
        "HEIGHT = 96\n",
        "\n",
        "def representative_dataset():\n",
        "    for _ in range(100):\n",
        "      data = np.random.rand(1, WIDTH, HEIGHT, 3)\n",
        "      yield [data.astype(np.float32)]\n",
        "      \n",
        "converter = tf.lite.TFLiteConverter.from_keras_model(loaded_model)\n",
        "converter.optimizations = [tf.lite.Optimize.OPTIMIZE_FOR_SIZE] #[tf.lite.Optimize.DEFAULT]\n",
        "converter.representative_dataset = representative_dataset\n",
        "converter.target_spec.supported_ops = [tf.lite.OpsSet.TFLITE_BUILTINS_INT8]\n",
        "# converter.inference_input_type = tf.int8  # or tf.uint8\n",
        "# converter.inference_output_type = tf.int8  # or tf.uint8\n",
        "tflite_quant_model = converter.convert()\n",
        "file = open(os.path.join(root, 'model/converted_model_best_150_new_dataset.tflite') , 'wb') \n",
        "file.write(tflite_quant_model) "
      ],
      "metadata": {
        "colab": {
          "base_uri": "https://localhost:8080/"
        },
        "id": "W4ePMsvR9l14",
        "outputId": "fc2988dd-2371-48d3-abde-c0ed063698bb"
      },
      "execution_count": 8,
      "outputs": [
        {
          "output_type": "stream",
          "name": "stderr",
          "text": [
            "WARNING:absl:Optimization option OPTIMIZE_FOR_SIZE is deprecated, please use optimizations=[Optimize.DEFAULT] instead.\n",
            "WARNING:absl:Found untraced functions such as _jit_compiled_convolution_op, _jit_compiled_convolution_op, _jit_compiled_convolution_op, _jit_compiled_convolution_op while saving (showing 4 of 4). These functions will not be directly callable after loading.\n",
            "WARNING:absl:Optimization option OPTIMIZE_FOR_SIZE is deprecated, please use optimizations=[Optimize.DEFAULT] instead.\n",
            "WARNING:absl:Optimization option OPTIMIZE_FOR_SIZE is deprecated, please use optimizations=[Optimize.DEFAULT] instead.\n",
            "/usr/local/lib/python3.7/dist-packages/tensorflow/lite/python/convert.py:766: UserWarning: Statistics for quantized inputs were expected, but not specified; continuing anyway.\n",
            "  warnings.warn(\"Statistics for quantized inputs were expected, but not \"\n"
          ]
        },
        {
          "output_type": "execute_result",
          "data": {
            "text/plain": [
              "59768"
            ]
          },
          "metadata": {},
          "execution_count": 8
        }
      ]
    },
    {
      "cell_type": "markdown",
      "source": [
        "convert from tflite to c++ code"
      ],
      "metadata": {
        "id": "SWGI40zuRZGO"
      }
    },
    {
      "cell_type": "code",
      "source": [
        "!xxd -i \"/gdrive/My Drive/MSB481/model/converted_model_best_150_new_dataset.tflite\" > \"/gdrive/My Drive/MSB481/model/model_data.tflite\""
      ],
      "metadata": {
        "id": "L753F-SYQx1v"
      },
      "execution_count": 10,
      "outputs": []
    }
  ]
}